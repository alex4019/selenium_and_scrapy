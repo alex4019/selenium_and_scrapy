{
 "cells": [
  {
   "cell_type": "code",
   "execution_count": 18,
   "metadata": {},
   "outputs": [],
   "source": [
    "from selenium import webdriver\n",
    "from selenium.webdriver.common.keys import Keys\n",
    "import time\n",
    "\n",
    "chromedriver = 'C:/Users/이영빈/Desktop/인빅/chromedriver_win32/chromedriver.exe'\n",
    "headless_options = webdriver.ChromeOptions()\n",
    "headless_options.add_argument('headless')\n",
    "driver = webdriver.Chrome(chromedriver, options = headless_options)\n",
    "driver.get('http://www.python.org')\n",
    "assert 'Python' in driver.title"
   ]
  },
  {
   "cell_type": "code",
   "execution_count": 19,
   "metadata": {},
   "outputs": [
    {
     "name": "stdout",
     "output_type": "stream",
     "text": [
      "Results\n",
      "Download Python for Other Platforms\n",
      "Python Documentation by Version\n",
      "Release – Python 2.5.3\n",
      "Python 2.5.4 Release\n",
      "Release – Python 2.5.4\n",
      "Python 2.5.3 Release\n",
      "Python 2.5 Release\n",
      "Python 2.5.2 Release\n",
      "Sunsetting Python 2\n",
      "Python 2.5.1 Release\n",
      "Release – Python 3.1.4\n",
      "Release – Python 2.5.0\n",
      "Release – Python 2.5.2\n",
      "Python 3.1.4 Release\n",
      "Python 3.1.3 Release\n",
      "Release – Python 2.5.1\n",
      "Python 3.2.1 Release\n",
      "Release – Python 2.7.9rc1\n",
      "Python 3.0 Release\n",
      "Python 3.2.5 Release\n"
     ]
    }
   ],
   "source": [
    "elem = driver.find_element_by_name('q')\n",
    "elem.clear()\n",
    "elem.send_keys('python')\n",
    "elem.send_keys(Keys.RETURN)\n",
    "assert 'No results found' not in driver.page_source\n",
    "time.sleep(2)\n",
    "\n",
    "h3s = driver.find_elements_by_tag_name('h3')\n",
    "for h3 in h3s:\n",
    "    print(h3.text)"
   ]
  },
  {
   "cell_type": "markdown",
   "metadata": {},
   "source": [
    "headless Chrome 사용법"
   ]
  },
  {
   "cell_type": "raw",
   "metadata": {},
   "source": [
    "options = webdriver.ChromeOptions()\n",
    "options.add_argument('headless')\n",
    "driver = webdriver.Chrome(chromedriver)"
   ]
  }
 ],
 "metadata": {
  "kernelspec": {
   "display_name": "Python 3",
   "language": "python",
   "name": "python3"
  },
  "language_info": {
   "codemirror_mode": {
    "name": "ipython",
    "version": 3
   },
   "file_extension": ".py",
   "mimetype": "text/x-python",
   "name": "python",
   "nbconvert_exporter": "python",
   "pygments_lexer": "ipython3",
   "version": "3.7.6"
  }
 },
 "nbformat": 4,
 "nbformat_minor": 4
}
