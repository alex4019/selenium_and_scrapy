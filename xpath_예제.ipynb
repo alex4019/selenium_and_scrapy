{
 "cells": [
  {
   "cell_type": "code",
   "execution_count": 6,
   "metadata": {},
   "outputs": [],
   "source": [
    "from selenium import webdriver\n",
    "from selenium.webdriver.common.by import By\n",
    "from selenium.webdriver.common.keys import Keys\n",
    "from selenium.webdriver.support.ui import WebDriverWait\n",
    "from selenium.webdriver.support import expected_conditions as EC\n",
    "from selenium.common.exceptions import TimeoutException\n",
    "import time\n",
    "chromedriver = 'C:/Users/이영빈/Desktop/인빅/chromedriver_win32/chromedriver.exe'\n",
    "driver = webdriver.Chrome(chromedriver)"
   ]
  },
  {
   "cell_type": "code",
   "execution_count": 7,
   "metadata": {},
   "outputs": [],
   "source": [
    "driver.get('https://learn.inha.ac.kr/')\n",
    "user_name = '12153465'\n",
    "password = 'julie1)78'\n",
    "user_id = '//*[@id=\"user_id\"]'\n",
    "user_passwords = '//*[@id=\"password\"]'\n",
    "login_button = '//*[@id=\"entry-login\"]'\n",
    "\n",
    "id_tag = WebDriverWait(driver, 10).until(EC.presence_of_element_located((By.XPATH, user_id)))\n",
    "password_tag = WebDriverWait(driver, 10).until(EC.presence_of_element_located((By.XPATH, user_passwords)))\n",
    "login_button_tag = WebDriverWait(driver, 10).until(EC.presence_of_element_located((By.XPATH, login_button)))\n",
    "\n",
    "id_tag.clear()\n",
    "id_tag.send_keys(user_name)\n",
    "password_tag.clear()\n",
    "password_tag.send_keys(password)\n",
    "login_button_tag.click()\n",
    "\n",
    "time.sleep(5)\n",
    "\n",
    "driver.quit()"
   ]
  },
  {
   "cell_type": "code",
   "execution_count": 10,
   "metadata": {},
   "outputs": [
    {
     "name": "stdout",
     "output_type": "stream",
     "text": [
      "[['탄소 발자국을 줄이는 나이키 신발 4', '2110'], ['한 번 가볼 텐가? 텐가 팝업스토어 1', '1712'], ['메가박스는 계획이 다 있구나 : 기생충 스페셜 오리지널 티켓', '1292'], ['구글 지도에서 교통 정체를 직접 컨트롤하는 방법?!', '1193'], ['그래픽 전문가를 위한 게이밍 노트북 RAZER BLADE 15 STUDIO EDITION', '1228'], ['말귀를 알아듣는 로봇청소기 LG 코드제로 씽큐 R9 보이스', '1033'], ['우주에서 날아온 듯한 뱅앤올룹슨 스타더스트 블루 한정판', '1482'], ['블루투스 추적기 치폴로 원', '1035'], ['지문으로 보안 강화시킨 삼성 T7 터치', '1151'], ['Wi-Fi 6와 Mesh로 무장한 프리미엄 공유기 : 벨롭 MX5300 1', '1124']]\n"
     ]
    }
   ],
   "source": [
    "chromedriver = 'C:/Users/이영빈/Desktop/인빅/chromedriver_win32/chromedriver.exe'\n",
    "driver = webdriver.Chrome(chromedriver)\n",
    "driver.get('https://seeko.earlyadopter.co.kr/bbs/board.php?bo_table=mainnews')\n",
    "\n",
    "article_data = list()\n",
    "titles = driver.find_elements_by_xpath(\"//div[@class ='wr-subject']\")\n",
    "hits = driver.find_elements_by_xpath(\"//div[@class = 'wr-hit hidden-xs']\")\n",
    "\n",
    "for num in range(10):\n",
    "    article_data.append([titles[num].text, hits[num].text])\n",
    "    \n",
    "print(article_data)"
   ]
  },
  {
   "cell_type": "code",
   "execution_count": null,
   "metadata": {},
   "outputs": [],
   "source": []
  }
 ],
 "metadata": {
  "kernelspec": {
   "display_name": "Python 3",
   "language": "python",
   "name": "python3"
  },
  "language_info": {
   "codemirror_mode": {
    "name": "ipython",
    "version": 3
   },
   "file_extension": ".py",
   "mimetype": "text/x-python",
   "name": "python",
   "nbconvert_exporter": "python",
   "pygments_lexer": "ipython3",
   "version": "3.7.6"
  }
 },
 "nbformat": 4,
 "nbformat_minor": 4
}
