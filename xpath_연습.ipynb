{
 "cells": [
  {
   "cell_type": "code",
   "execution_count": 4,
   "metadata": {},
   "outputs": [
    {
     "name": "stdout",
     "output_type": "stream",
     "text": [
      "올해만 887조원, 미국의 거대한 돈 씀씀이\n",
      "올해만 887조원, 미국의 거대한 돈 씀씀이\n"
     ]
    }
   ],
   "source": [
    "from selenium import webdriver\n",
    "from selenium.webdriver.common.keys import Keys\n",
    "import time\n",
    "\n",
    "chromedriver = 'C:/Users/이영빈/Desktop/인빅/chromedriver_win32/chromedriver.exe'\n",
    "headless_options = webdriver.ChromeOptions()\n",
    "headless_options.add_argument('headless')\n",
    "driver = webdriver.Chrome(chromedriver, options = headless_options)\n",
    "driver.get('https://news.v.daum.net/v/20200615160300331')\n",
    "title = driver.find_element_by_xpath('//*[@id=\"cSub\"]/div/h3')\n",
    "print(title.text)\n",
    "title2 = driver.find_element_by_xpath('//title')\n",
    "print(title2.get_attribute('text'))\n",
    "driver.quit()"
   ]
  }
 ],
 "metadata": {
  "kernelspec": {
   "display_name": "Python 3",
   "language": "python",
   "name": "python3"
  },
  "language_info": {
   "codemirror_mode": {
    "name": "ipython",
    "version": 3
   },
   "file_extension": ".py",
   "mimetype": "text/x-python",
   "name": "python",
   "nbconvert_exporter": "python",
   "pygments_lexer": "ipython3",
   "version": "3.7.6"
  }
 },
 "nbformat": 4,
 "nbformat_minor": 4
}
